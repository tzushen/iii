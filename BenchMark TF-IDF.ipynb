{
 "cells": [
  {
   "cell_type": "markdown",
   "metadata": {},
   "source": [
    "### BenchMark Spark TF-IDF"
   ]
  },
  {
   "cell_type": "code",
   "execution_count": null,
   "metadata": {
    "collapsed": true
   },
   "outputs": [],
   "source": [
    "import pyspark\n",
    "sc = pyspark.SparkContext(master=\"local[1]\",appName=\"myAppName\")\n",
    "import pymongo_spark\n",
    "pymongo_spark.activate()"
   ]
  },
  {
   "cell_type": "code",
   "execution_count": null,
   "metadata": {
    "collapsed": true
   },
   "outputs": [],
   "source": [
    "import jieba\n",
    "from pyspark.sql import HiveContext\n",
    "from sklearn.feature_extraction.text import TfidfVectorizer\n",
    "import numpy as np\n",
    "import re\n",
    "import time\n",
    "from pyspark.mllib.feature import HashingTF\n",
    "from pyspark.mllib.feature import IDF\n",
    "\n",
    "#time_start = time.clock()\n",
    "mStart=time.time()\n",
    "mongo_rdd = sc.mongoRDD('mongodb://10.120.28.29:27017/newstest.newstest5')\n",
    "mEnd=time.time()\n",
    "print '讀取資料花了 {} s'.format(mEnd-mStart)\n",
    "\n",
    "tStart=time.time()\n",
    "content = mongo_rdd.map(lambda x: x['content'])\n",
    "wordRDD = content.map(lambda x:tuple(jieba.cut(x)))\n",
    "#tEnd = time.time() #記時(時間結束)\n",
    "#print ' 花了 {} s'.format(tEnd-tStart)\n",
    "tEnd = time.time() #記時(時間結束)\n",
    "print 'jieba花了 {} s'.format(tEnd-tStart)\n",
    "\n",
    "fStart =time.time()\n",
    "#time_start_jieba = time.clock()\n",
    "hashingTF = HashingTF()\n",
    "tf = hashingTF.transform(wordRDD)\n",
    "#tf.cache()\n",
    "idf = IDF().fit(tf)\n",
    "tfidf = idf.transform(tf)\n",
    "fEnd =time.time()\n",
    "print 'tfidf花了 {} s'.format(fEnd-fStart)\n",
    "#time_end_jieba = time.clock()\n",
    "#time_for_jieba= time_end_jieba-time_start_jieba\n",
    "#print (time_for_jieba)\n",
    "\n",
    "#time_step2 = time.clock()\n",
    "#print \"計算tf-idf的時間\", time_step2-time_step1, \"秒\"\n",
    "#time_step1 = time.clock()\n",
    "#print \"jieba的時間\", time_step1-time_start, \"秒\"\n"
   ]
  },
  {
   "cell_type": "markdown",
   "metadata": {},
   "source": [
    "### BenchMark Python TF-IDF"
   ]
  },
  {
   "cell_type": "code",
   "execution_count": null,
   "metadata": {
    "collapsed": true
   },
   "outputs": [],
   "source": [
    "import re\n",
    "from pymongo import MongoClient \n",
    "from sklearn.feature_extraction.text import TfidfVectorizer\n",
    "import numpy as np\n",
    "import re\n",
    "import jieba\n",
    "import time\n",
    "jieba.set_dictionary('/home/cloudera/Desktop/text_mining/dict.txt')             #切換至中文繁體字庫\n",
    "jieba.load_userdict(\"/home/cloudera/Desktop/text_mining/dict_keyw_new.txt\")     #加入自建詞庫\n",
    "jieba.load_userdict(\"/home/cloudera/Desktop/text_mining/dict_cbdic.txt\")\n",
    "\n",
    "#預設就是自己\n",
    "client = MongoClient('10.120.28.29',27017)\n",
    "database = client['newstest']\n",
    "collection =database['newstest5']"
   ]
  },
  {
   "cell_type": "code",
   "execution_count": null,
   "metadata": {
    "collapsed": true
   },
   "outputs": [],
   "source": [
    "title=[]\n",
    "content =[]\n",
    "#拿資料\n",
    "mStart=time.time()\n",
    "col = collection.find()\n",
    "mEnd=time.time()\n",
    "print '讀取資料花了 {} s'.format(mEnd-mStart)\n",
    "tStart=time.time()\n",
    "for post in col:\n",
    "    summary = post['content']\n",
    "    content.append('/'.join(jieba.cut(summary)))\n",
    "    #print content\n",
    "    title.append(post['title'])\n",
    "tEnd = time.time() #記時(時間結束)\n",
    "print 'jieba花了 {} s'.format(tEnd-tStart)\n",
    "    #print title\n",
    "#總文章數量\n",
    "#print \"文章數:\",len(title)\n",
    "#定義計算TF-IDF的函式\n",
    "fStart=time.time()\n",
    "def tfIdf(content):\n",
    "    vectorizer = TfidfVectorizer()\n",
    "    #print vectorizer\n",
    "    #help(vectorizer)\n",
    "    X = vectorizer.fit_transform(content)  # titile 放文本\n",
    "    #print X\n",
    "    weight = X.toarray()\n",
    "    #print weight\n",
    "    #print \"特徵值數量:\",len(vectorizer.get_feature_names())\n",
    "    return weight,X,vectorizer\n",
    "#把上面存好的切詞進行TF-IDF計算，並把結果存進 weight\n",
    "weight,X,vectorizer = tfIdf(content)\n",
    "class test(): #宣告類別\n",
    "    \n",
    "    @staticmethod #宣告成靜態方法, 靜態方法不需要設定self\n",
    "    def getTopTfidf(news_id,n):\n",
    "        indices = np.argsort(X.toarray()[news_id])[::-1] \n",
    "        #print indices\n",
    "        features = vectorizer.get_feature_names()\n",
    "        #print features\n",
    "        #print title[news_id]\n",
    "        top_n = n\n",
    "        top_features = [features[i] for i in indices[:top_n]]\n",
    "        return top_features,indices\n",
    "\n",
    "    @staticmethod\n",
    "    def getTopWeight(news_id,n):\n",
    "        top_features,indices = test.getTopTfidf(news_id,n) #類別名稱.方法()\n",
    "        a=0\n",
    "        for i in top_features:\n",
    "            #print i,weight[news_id][indices[a]]  # weight[2000] 裡面請填入跟上面一樣的文章編號\n",
    "            a=a+1\n",
    "test.getTopWeight(40,50)\n",
    "fEnd =time.time()\n",
    "print 'tfidf花了 {} s'.format(fEnd-fStart)"
   ]
  }
 ],
 "metadata": {
  "kernelspec": {
   "display_name": "Python 2",
   "language": "python",
   "name": "python2"
  },
  "language_info": {
   "codemirror_mode": {
    "name": "ipython",
    "version": 2
   },
   "file_extension": ".py",
   "mimetype": "text/x-python",
   "name": "python",
   "nbconvert_exporter": "python",
   "pygments_lexer": "ipython2",
   "version": "2.7.11"
  }
 },
 "nbformat": 4,
 "nbformat_minor": 0
}
