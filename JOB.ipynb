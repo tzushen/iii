{
 "cells": [
  {
   "cell_type": "markdown",
   "metadata": {},
   "source": [
    "### 八卦板爬蟲"
   ]
  },
  {
   "cell_type": "code",
   "execution_count": null,
   "metadata": {
    "collapsed": true
   },
   "outputs": [],
   "source": [
    "import requests\n",
    "from bs4 import BeautifulSoup as bs\n",
    "import time\n",
    "import re\n",
    "import json\n",
    "acount = 0\n",
    "count = 0\n",
    "playload = {\n",
    "'from':'/bbs/Gossiping/index.html',\n",
    "'yes':'yes'\n",
    "}\n",
    "rs = requests.session()\n",
    "res = rs.post('https://www.ptt.cc/ask/over18',verify=False,data=playload)\n",
    "page_url='https://www.ptt.cc/bbs/Gossiping/index{}.html'\n",
    "\n",
    "for i in xrange(250,1000):\n",
    "    url = 'https://www.ptt.cc'\n",
    "    res = rs.get(page_url.format(i),verify=False)\n",
    "    soup = bs(res.text)\n",
    "    div = soup.select('.title')\n",
    "    #titlea = soup.select('.title a')\n",
    "    #for s in xlen(titlea):\n",
    "        #title = titlea[s].text\n",
    "        #print title\n",
    "    for page in div:\n",
    "        try:\n",
    "            numOfLike = page.select('a')[0].text\n",
    "        except:\n",
    "            numOfLike = '0'\n",
    "        if((not numOfLike.isdigit()) & ('X' not in numOfLike)):\n",
    "            url1 = page.select('a')[0]['href']\n",
    "            #print url1\n",
    "        pages_url = url+url1\n",
    "        res1 = rs.get(pages_url,verify=False)\n",
    "        soup1 = bs(res1.text)\n",
    "        try:\n",
    "            title = soup1.select('.article-meta-value')[2].text\n",
    "        except IndexError: \n",
    "            acount+=1\n",
    "            print 'IndexError:'+str(acount)\n",
    "        #print title\n",
    "        #title = title_class.text.split('] ')[1]\n",
    "        #href = soup1.select('.f2 a')[0]['href']\n",
    "        push = soup1.select('.push')\n",
    "        message = \"\"\n",
    "        for page in push:\n",
    "            x = page.text\n",
    "            message += x.encode('utf-8')\n",
    "        #print message\n",
    "        try:\n",
    "            date_col = soup1.select('.article-meta-value')[3]\n",
    "            month = date_col.text.split(' ')[1]\n",
    "            if date_col.text.split(' ')[1] == \"Jan\":\n",
    "                y = re.sub('Jan','01',month)\n",
    "            elif date_col.text.split(' ')[1] == \"Feb\":\n",
    "                y = re.sub('Feb','02',month)\n",
    "            elif date_col.text.split(' ')[1] == \"Mar\":\n",
    "                y = re.sub('Mar','03',month)\n",
    "            elif date_col.text.split(' ')[1] == \"Apr\":\n",
    "                y = re.sub('Apr','04',month)\n",
    "            elif date_col.text.split(' ')[1] == \"May\":\n",
    "                y = re.sub('May','05',month)\n",
    "            elif date_col.text.split(' ')[1] == \"Jun\":\n",
    "                y = re.sub('Jun','06',month)\n",
    "            elif date_col.text.split(' ')[1] == \"Jul\":\n",
    "                y = re.sub('Jul','07',month)\n",
    "            elif date_col.text.split(' ')[1] == \"Aug\":\n",
    "                y = re.sub('Aug','08',month)\n",
    "            elif date_col.text.split(' ')[1] == \"Sep\":\n",
    "                y = re.sub('Sep','09',month)\n",
    "            elif date_col.text.split(' ')[1] == \"Oct\":\n",
    "                y = re.sub('Oct','10',month)\n",
    "            elif date_col.text.split(' ')[1] == \"Nov\":\n",
    "                y = re.sub('Nov','11',month)\n",
    "            elif date_col.text.split(' ')[1] == \"Dec\":\n",
    "                y = re.sub('Dec','12',month)\n",
    "            if len(date_col.text.split(' '))<=5:\n",
    "                date = date_col.text.split(' ')[4],y,date_col.text.split(' ')[2]\n",
    "            else:\n",
    "                date = date_col.text.split(' ')[5],y,'0'+date_col.text.split(' ')[3]\n",
    "            date_new = date[0]+date[1]+date[2]\n",
    "        except IndexError:\n",
    "            print pages_url\n",
    "        try:\n",
    "            main_content= soup1.select('#main-content')[0]\n",
    "        except IndexError:\n",
    "            print 'content'+pages_url\n",
    "        for l in main_content.select('span'):\n",
    "            main_content.span.decompose()\n",
    "        dic ={\n",
    "            'comp':'ptt',\n",
    "            'url':pages_url,\n",
    "            'title':title,\n",
    "            'date':date_new,\n",
    "            'content':main_content.text,\n",
    "            'message':message\n",
    "        }\n",
    "        data = json.dumps(dic)\n",
    "        name = date_new+'_'+pages_url.split('/')[5].split('.')[1]\n",
    "        try:\n",
    "            f = open('E:\\PTTGossiping1\\{}.json'.format(name),'w')\n",
    "            f.write(data)\n",
    "            f.close()\n",
    "        except IOError:\n",
    "            print pages_url\n",
    "        time.sleep(0.1)"
   ]
  },
  {
   "cell_type": "markdown",
   "metadata": {},
   "source": [
    "### 政黑板爬蟲"
   ]
  },
  {
   "cell_type": "code",
   "execution_count": null,
   "metadata": {
    "collapsed": true
   },
   "outputs": [],
   "source": [
    "import requests\n",
    "from bs4 import BeautifulSoup as bs\n",
    "import time\n",
    "import re\n",
    "import json\n",
    "acount = 0\n",
    "count = 0\n",
    "rs = requests.session()\n",
    "page_url='https://www.ptt.cc/bbs/HatePolitics/index{}.html'\n",
    "#https://www.ptt.cc/bbs/HatePolitics/index{}.html\n",
    "for i in xrange(3100,3500):\n",
    "    url = 'https://www.ptt.cc'\n",
    "    res = rs.get(page_url.format(i),verify=False)\n",
    "    soup = bs(res.text)\n",
    "    div = soup.select('.title')\n",
    "    #titlea = soup.select('.title a')\n",
    "    #for s in xlen(titlea):\n",
    "        #title = titlea[s].text\n",
    "        #print title\n",
    "    for page in div:\n",
    "        try:\n",
    "            numOfLike = page.select('a')[0].text\n",
    "        except:\n",
    "            numOfLike = '0'\n",
    "        if((not numOfLike.isdigit()) & ('X' not in numOfLike)):\n",
    "            url1 = page.select('a')[0]['href']\n",
    "            #print url1\n",
    "        pages_url = url+url1\n",
    "        res1 = rs.get(pages_url,verify=False)\n",
    "        soup1 = bs(res1.text)\n",
    "        try:\n",
    "            title = soup1.select('.article-meta-value')[2].text\n",
    "        except IndexError: \n",
    "            acount+=1\n",
    "            print 'IndexError:'+str(acount)\n",
    "        #print title\n",
    "        #title = title_class.text.split('] ')[1]\n",
    "        #href = soup1.select('.f2 a')[0]['href']\n",
    "        push = soup1.select('.push')\n",
    "        message = \"\"\n",
    "        for page in push:\n",
    "            x = page.text\n",
    "            message += x.encode('utf-8')\n",
    "        #print message\n",
    "        try:\n",
    "            date_col = soup1.select('.article-meta-value')[3]\n",
    "            month = date_col.text.split(' ')[1]\n",
    "            if date_col.text.split(' ')[1] == \"Jan\":\n",
    "                y = re.sub('Jan','01',month)\n",
    "            elif date_col.text.split(' ')[1] == \"Feb\":\n",
    "                y = re.sub('Feb','02',month)\n",
    "            elif date_col.text.split(' ')[1] == \"Mar\":\n",
    "                y = re.sub('Mar','03',month)\n",
    "            elif date_col.text.split(' ')[1] == \"Apr\":\n",
    "                y = re.sub('Apr','04',month)\n",
    "            elif date_col.text.split(' ')[1] == \"May\":\n",
    "                y = re.sub('May','05',month)\n",
    "            elif date_col.text.split(' ')[1] == \"Jun\":\n",
    "                y = re.sub('Jun','06',month)\n",
    "            elif date_col.text.split(' ')[1] == \"Jul\":\n",
    "                y = re.sub('Jul','07',month)\n",
    "            elif date_col.text.split(' ')[1] == \"Aug\":\n",
    "                y = re.sub('Aug','08',month)\n",
    "            elif date_col.text.split(' ')[1] == \"Sep\":\n",
    "                y = re.sub('Sep','09',month)\n",
    "            elif date_col.text.split(' ')[1] == \"Oct\":\n",
    "                y = re.sub('Oct','10',month)\n",
    "            elif date_col.text.split(' ')[1] == \"Nov\":\n",
    "                y = re.sub('Nov','11',month)\n",
    "            elif date_col.text.split(' ')[1] == \"Dec\":\n",
    "                y = re.sub('Dec','12',month)\n",
    "            if len(date_col.text.split(' '))<=5:\n",
    "                date = date_col.text.split(' ')[4],y,date_col.text.split(' ')[2]\n",
    "            else:\n",
    "                date = date_col.text.split(' ')[5],y,'0'+date_col.text.split(' ')[3]\n",
    "            date_new = date[0]+date[1]+date[2]\n",
    "        except IndexError:\n",
    "            print pages_url\n",
    "        try:\n",
    "            main_content= soup1.select('#main-content')[0]\n",
    "        except IndexError:\n",
    "            print 'content'+pages_url\n",
    "        for l in main_content.select('span'):\n",
    "            main_content.span.decompose()\n",
    "        dic ={\n",
    "            'comp':'ptt',\n",
    "            'url':pages_url,\n",
    "            'title':title,\n",
    "            'date':date_new,\n",
    "            'content':main_content.text,\n",
    "            'message':message\n",
    "        }\n",
    "        data = json.dumps(dic)\n",
    "        name = date_new+'_'+pages_url.split('/')[5].split('.')[1]\n",
    "        try:\n",
    "            f = open('E:\\HatePolitics\\{}.json'.format(name),'w')\n",
    "            f.write(data)\n",
    "            f.close()\n",
    "        except IOError:\n",
    "            print pages_url\n",
    "        time.sleep(0.3)"
   ]
  },
  {
   "cell_type": "markdown",
   "metadata": {},
   "source": [
    "### 讀取json檔"
   ]
  },
  {
   "cell_type": "code",
   "execution_count": null,
   "metadata": {
    "collapsed": true
   },
   "outputs": [],
   "source": [
    "import json\n",
    "with open('E:/PTTGossiping1/20131213_1386867793.json', 'r') as f:\n",
    "    i = f.read()\n",
    "    #print i\n",
    "    print json.loads(i)['url'],json.loads(i)['title'],json.loads(i)['date'],json.loads(i)['content'],json.loads(i)['message']"
   ]
  },
  {
   "cell_type": "markdown",
   "metadata": {},
   "source": [
    "### 整理資料夾內檔案存成一年"
   ]
  },
  {
   "cell_type": "code",
   "execution_count": null,
   "metadata": {
    "collapsed": true
   },
   "outputs": [],
   "source": [
    "import os\n",
    "import string\n",
    "x=[]\n",
    "s='[' #建立多個字典\n",
    "for dirPath, dirNames, fileNames in os.walk(\"E:/TEST/\"):\n",
    "#    print fileNames\n",
    "    a = [dirPath, dirNames, fileNames]\n",
    "    x.append(a)\n",
    "#    print x\n",
    "#    print dirPath\n",
    "        \n",
    "for f in fileNames:\n",
    "    path = x[0][0]\n",
    "    road = os.path.join(path, f)\n",
    "    with open(road,'r') as f:\n",
    "        s += f.read()+','\n",
    "        s1 = '{\"comp\":\"ptt\",\"url\"'.join(s.split('{\"url\"'))#這是前面檔案忘記加上COMP\n",
    "f = open('E:/gossiping2/gos2015.json','w')\n",
    "s2 = s1[:-1]\n",
    "s2 += ']'\n",
    "#print s1[-4:-1]\n",
    "f.write(s2)\n",
    "f.close()"
   ]
  },
  {
   "cell_type": "code",
   "execution_count": null,
   "metadata": {
    "collapsed": true
   },
   "outputs": [],
   "source": [
    "import os\n",
    "x=[]\n",
    "s='['\n",
    "for dirPath, dirNames, fileNames in os.walk(\"E:/TEST/\"):\n",
    "    #print fileNames\n",
    "    a = [dirPath, dirNames, fileNames]\n",
    "    x.append(a)\n",
    "#    print x\n",
    "#    print dirPath\n",
    "        \n",
    "for n in fileNames:\n",
    "    path = x[0][0]\n",
    "    road = os.path.join(path, n)\n",
    "    with open(road,'r') as f:\n",
    "           s += f.read()+','\n",
    "f = open('E:/gossiping2/hat2015.json','w')\n",
    "s1 = s[:-1]\n",
    "s1 += ']'\n",
    "#print s1[-4:-1]\n",
    "f.write(s1)\n",
    "f.close()"
   ]
  },
  {
   "cell_type": "markdown",
   "metadata": {},
   "source": [
    "### 匯入MongoDB"
   ]
  },
  {
   "cell_type": "code",
   "execution_count": 4,
   "metadata": {
    "collapsed": false
   },
   "outputs": [
    {
     "name": "stdout",
     "output_type": "stream",
     "text": [
      "1858\n"
     ]
    },
    {
     "data": {
      "text/plain": [
       "<pymongo.results.InsertManyResult at 0x3bb3e10>"
      ]
     },
     "execution_count": 4,
     "metadata": {},
     "output_type": "execute_result"
    }
   ],
   "source": [
    "import pymongo\n",
    "from pymongo import MongoClient\n",
    "import json\n",
    "\n",
    "with open('E:/gossiping2/gos2014.json', 'r') as f:\n",
    "    i = f.read()\n",
    "    #json1 = json.loads(i)['url'],json.loads(i)['title'],json.loads(i)['date'],json.loads(i)['content']\n",
    "    json = json.loads(i)\n",
    "    f.close()\n",
    "    print len(json)\n",
    "    \n",
    "client = MongoClient() \n",
    "database = client[\"gossiping\"]\n",
    "collection = database[\"gossiping2\"]\n",
    "collection.insert_many(\n",
    "    json\n",
    ")\n",
    "#for post in collection.find(): #collection = person,這等於select * from person\n",
    "#    print post #讀出來"
   ]
  },
  {
   "cell_type": "markdown",
   "metadata": {},
   "source": [
    "### 讀取別人的MongoDB"
   ]
  },
  {
   "cell_type": "code",
   "execution_count": null,
   "metadata": {
    "collapsed": true
   },
   "outputs": [],
   "source": [
    "import pymongo\n",
    "from pymongo import MongoClient\n",
    "client = MongoClient('10.120.28.20',27017) #預設連接自己主機上的mongodb\n",
    "#print client\n",
    "database = client[\"test\"] # SQL: Database Name\n",
    "#print database\n",
    "collection = database[\"news\"]\n",
    "#print collection\n",
    "for post in collection.find(): #查詢所有name的正確寫法!!\n",
    "    print post[\"comp\"]"
   ]
  }
 ],
 "metadata": {
  "kernelspec": {
   "display_name": "Python 2",
   "language": "python",
   "name": "python2"
  },
  "language_info": {
   "codemirror_mode": {
    "name": "ipython",
    "version": 2
   },
   "file_extension": ".py",
   "mimetype": "text/x-python",
   "name": "python",
   "nbconvert_exporter": "python",
   "pygments_lexer": "ipython2",
   "version": "2.7.11"
  }
 },
 "nbformat": 4,
 "nbformat_minor": 0
}
