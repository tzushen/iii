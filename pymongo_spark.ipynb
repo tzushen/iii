{
 "cells": [
  {
   "cell_type": "code",
   "execution_count": null,
   "metadata": {
    "collapsed": true
   },
   "outputs": [],
   "source": [
    "import pymongo_spark\n",
    "import jieba\n",
    "pymongo_spark.activate()\n",
    "sc = pyspark.SparkContext(master=\"local[1]\",appName=\"myAppName\")\n",
    "mongo_rdd = sc.mongoRDD('mongodb://10.120.28.6:27017/testPyspark.news')\n",
    "#print mongo_rdd\n"
   ]
  },
  {
   "cell_type": "code",
   "execution_count": null,
   "metadata": {
    "collapsed": true
   },
   "outputs": [],
   "source": [
    "#print type(mongo_rdd)\n",
    "#mongo_rdd.take(5)\n",
    "#mongo_rdd.count()"
   ]
  },
  {
   "cell_type": "code",
   "execution_count": null,
   "metadata": {
    "collapsed": true
   },
   "outputs": [],
   "source": [
    "content = mongo_rdd.map(lambda x: x['content'])\n",
    "wordRDD = content.flatMap(lambda x: jieba.cut(x))\n",
    "wordFreRDD = wordRDD.map(lambda x: (x, 1))\n",
    "counts = wordFreRDD.reduceByKey(lambda x ,y : x+y)\n",
    "count_all=counts.collect()\n",
    "lis_sorted = sorted(count_all,key=lambda li:li[1], reverse=True)\n",
    "for ele in lis_sorted:\n",
    "    fil = re.sub(\"[\\s+\\.\\!\\/_,$%^*「」(+\\\"\\']+|[+——！，。？、~@#￥%……&*（）]+\"\\\n",
    "           .decode(\"utf8\"), \"\".decode(\"utf8\"),ele[0])\n",
    "    if fil ==\"\":\n",
    "        pass\n",
    "    else:\n",
    "        print ele[0],ele[1]   # show keywords and count\n",
    "print (\"---------next one----------\")"
   ]
  }
 ],
 "metadata": {
  "kernelspec": {
   "display_name": "Python 2",
   "language": "python",
   "name": "python2"
  },
  "language_info": {
   "codemirror_mode": {
    "name": "ipython",
    "version": 2
   },
   "file_extension": ".py",
   "mimetype": "text/x-python",
   "name": "python",
   "nbconvert_exporter": "python",
   "pygments_lexer": "ipython2",
   "version": "2.7.11"
  }
 },
 "nbformat": 4,
 "nbformat_minor": 0
}
