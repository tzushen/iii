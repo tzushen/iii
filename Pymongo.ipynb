{
 "cells": [
  {
   "cell_type": "markdown",
   "metadata": {},
   "source": [
    "### 寫入MongoDB"
   ]
  },
  {
   "cell_type": "code",
   "execution_count": null,
   "metadata": {
    "collapsed": true
   },
   "outputs": [],
   "source": [
    "import pymongo\n",
    "from pymongo import MongoClient\n",
    "import json\n",
    "\n",
    "with open('E:/test4/201504.json', 'r') as f:\n",
    "    i = f.read()\n",
    "    #json1 = json.loads(i)['url'],json.loads(i)['title'],json.loads(i)['date'],json.loads(i)['content']\n",
    "    json = json.loads(i)\n",
    "    f.close()\n",
    "    print len(json)\n",
    "    \n",
    "client = MongoClient() \n",
    "database = client[\"dbs\"]\n",
    "collection = database[\"collections\"]\n",
    "collection.insert_many(\n",
    "    json\n",
    ")\n",
    "#for post in collection.find(): #collection = person,這等於select * from person\n",
    "#    print post #讀出來"
   ]
  },
  {
   "cell_type": "markdown",
   "metadata": {},
   "source": [
    "### 讀取MongoDB"
   ]
  },
  {
   "cell_type": "code",
   "execution_count": null,
   "metadata": {
    "collapsed": true
   },
   "outputs": [],
   "source": [
    "import pymongo\n",
    "from pymongo import MongoClient\n",
    "client = MongoClient('ip',27017) #預設連接自己主機上的mongodb\n",
    "#print client\n",
    "database = client[\"test\"] # SQL: Database Name\n",
    "#print database\n",
    "collection = database[\"news\"]\n",
    "#print collection\n",
    "for post in collection.find(): #查詢所有name的正確寫法!!\n",
    "    print post[\"comp\"]"
   ]
  },
  {
   "cell_type": "markdown",
   "metadata": {},
   "source": [
    "### 連到別人資料庫"
   ]
  },
  {
   "cell_type": "code",
   "execution_count": null,
   "metadata": {
    "collapsed": true
   },
   "outputs": [],
   "source": [
    "import json\n",
    "import pymongo\n",
    "from pymongo import MongoClient\n",
    "client = MongoClient('ip',27017)\n",
    "\n",
    "database = client[\"news\"]\n",
    "\n",
    "collection = database[\"news\"]\n",
    "\n",
    "db = collection.find().limit(800000)\n",
    "\n",
    "client = MongoClient()\n",
    "database = client['newstest']\n",
    "collection = database['newstest']\n",
    "collection.insert_many(\n",
    "    db\n",
    ")"
   ]
  }
 ],
 "metadata": {
  "kernelspec": {
   "display_name": "Python 2",
   "language": "python",
   "name": "python2"
  },
  "language_info": {
   "codemirror_mode": {
    "name": "ipython",
    "version": 2
   },
   "file_extension": ".py",
   "mimetype": "text/x-python",
   "name": "python",
   "nbconvert_exporter": "python",
   "pygments_lexer": "ipython2",
   "version": "2.7.11"
  }
 },
 "nbformat": 4,
 "nbformat_minor": 0
}
